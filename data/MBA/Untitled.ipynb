{
 "cells": [
  {
   "cell_type": "code",
   "execution_count": 1,
   "id": "67466a38-878b-49cc-a76b-884328893d70",
   "metadata": {},
   "outputs": [
    {
     "name": "stdout",
     "output_type": "stream",
     "text": [
      "Test Data:\n",
      "   sample  ECG1  ECG2\n",
      "0     NaN  (mV)  (mV)\n",
      "1     0.0 -0.02 -0.16\n",
      "2     1.0 -0.01 -0.21\n",
      "3     2.0 -0.02 -0.16\n",
      "4     3.0  0.03 -0.19\n",
      "\n",
      "Train Data:\n",
      "   sample  ECG1  ECG2\n",
      "0     NaN  (mV)  (mV)\n",
      "1     0.0 -0.02 -0.16\n",
      "2     1.0 -0.01 -0.21\n",
      "3     2.0 -0.02 -0.16\n",
      "4     3.0  0.03 -0.19\n",
      "\n",
      "Labels Data:\n",
      "              Time  Sample  #  Type  Sub  Chan  Num  Aux\n",
      "0  00:00:00.367000      47  F     0    0     0  NaN  NaN\n",
      "1  00:00:01.313000     168  N     0    0     0  NaN  NaN\n",
      "2  00:00:02.219000     284  F     0    0     0  NaN  NaN\n",
      "3  00:00:03.172000     406  N     0    0     0  NaN  NaN\n",
      "4  00:00:04.063000     520  V     0    0     0  NaN  NaN\n"
     ]
    }
   ],
   "source": [
    "import pandas as pd\n",
    "\n",
    "# Replace 'test.xlsx', 'train.xlsx', and 'labels.xlsx' with the actual file paths\n",
    "test_file_path = 'test.xlsx'\n",
    "train_file_path = 'train.xlsx'\n",
    "labels_file_path = 'labels.xlsx'\n",
    "\n",
    "# Reading the Excel files\n",
    "test_data = pd.read_excel(test_file_path)\n",
    "train_data = pd.read_excel(train_file_path)\n",
    "labels_data = pd.read_excel(labels_file_path)\n",
    "\n",
    "# Display the first few rows of each dataframe to verify\n",
    "print(\"Test Data:\")\n",
    "print(test_data.head())\n",
    "\n",
    "print(\"\\nTrain Data:\")\n",
    "print(train_data.head())\n",
    "\n",
    "print(\"\\nLabels Data:\")\n",
    "print(labels_data.head())\n"
   ]
  },
  {
   "cell_type": "code",
   "execution_count": null,
   "id": "0c404ac2-1df4-42e1-ac06-e528dcbaa138",
   "metadata": {},
   "outputs": [],
   "source": []
  }
 ],
 "metadata": {
  "kernelspec": {
   "display_name": "Python 3 (ipykernel)",
   "language": "python",
   "name": "python3"
  },
  "language_info": {
   "codemirror_mode": {
    "name": "ipython",
    "version": 3
   },
   "file_extension": ".py",
   "mimetype": "text/x-python",
   "name": "python",
   "nbconvert_exporter": "python",
   "pygments_lexer": "ipython3",
   "version": "3.8.19"
  }
 },
 "nbformat": 4,
 "nbformat_minor": 5
}
