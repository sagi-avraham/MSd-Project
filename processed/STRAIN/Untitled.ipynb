{
 "cells": [
  {
   "cell_type": "code",
   "execution_count": 14,
   "id": "7cadad69-017e-4dcb-a736-74826947553c",
   "metadata": {
    "scrolled": true
   },
   "outputs": [
    {
     "name": "stdout",
     "output_type": "stream",
     "text": [
      "(4094, 299)\n",
      "(4094, 299)\n",
      "(4094, 299)\n",
      "[[1. 1. 1. ... 1. 1. 1.]\n",
      " [1. 1. 1. ... 1. 1. 1.]\n",
      " [0. 0. 0. ... 0. 0. 0.]\n",
      " ...\n",
      " [0. 0. 0. ... 0. 0. 0.]\n",
      " [0. 0. 0. ... 0. 0. 0.]\n",
      " [0. 0. 0. ... 0. 0. 0.]]\n"
     ]
    }
   ],
   "source": [
    "import numpy as np\n",
    "import matplotlib.pyplot as plt\n",
    "\n",
    "# Load train and test data\n",
    "train_data = np.load('train.npy')  # Load first three samples from train.npy\n",
    "test_data = np.load('test.npy')    # Load first three samples from test.npy\n",
    "labels=np.load('labels.npy')\n",
    "\n",
    "print(test_data.shape)\n",
    "print(train_data.shape)\n",
    "print(labels.shape)\n",
    "print(labels[1:])"
   ]
  },
  {
   "cell_type": "code",
   "execution_count": 7,
   "id": "ec9cd6dc-f7ac-45f6-8740-b0ef90bbbed5",
   "metadata": {},
   "outputs": [
    {
     "name": "stdout",
     "output_type": "stream",
     "text": [
      "Original labels shape: (298, 4095)\n",
      "New labels shape: (4094, 300)\n",
      "[[1. 1. 1. ... 1. 1. 1.]\n",
      " [1. 1. 1. ... 1. 1. 1.]\n",
      " [1. 1. 1. ... 1. 1. 1.]\n",
      " ...\n",
      " [1. 1. 1. ... 1. 1. 1.]\n",
      " [1. 1. 1. ... 1. 1. 1.]\n",
      " [1. 1. 1. ... 1. 1. 1.]]\n"
     ]
    }
   ],
   "source": [
    "import numpy as np\n",
    "\n",
    "# Load the existing labels.npy\n",
    "labels = np.load('labels.npy')\n",
    "\n",
    "# Determine the number of columns (samples) in the original labels array\n",
    "num_samples = labels.shape[1]\n",
    "\n",
    "# Create a new array of shape (4094, num_samples) to hold the new labels\n",
    "new_labels = np.zeros((4094, num_samples))\n",
    "\n",
    "# Iterate through each column in the original labels array\n",
    "for i in range(num_samples):\n",
    "    first_value = labels[0, i]\n",
    "    new_labels[:, i] = first_value\n",
    "\n",
    "# Ensure the new array is of the required shape (4094, 300)\n",
    "new_labels = new_labels[:, :300]\n",
    "\n",
    "# Save the new labels array to new_labels.npy\n",
    "np.save('new_labels.npy', new_labels)\n",
    "\n",
    "# Print shapes to verify\n",
    "print(\"Original labels shape:\", labels.shape)\n",
    "print(\"New labels shape:\", new_labels.shape)\n",
    "print(new_labels)\n"
   ]
  },
  {
   "cell_type": "code",
   "execution_count": null,
   "id": "0946bbee-7fec-4d66-b916-6128312c14b3",
   "metadata": {},
   "outputs": [],
   "source": []
  }
 ],
 "metadata": {
  "kernelspec": {
   "display_name": "Python 3 (ipykernel)",
   "language": "python",
   "name": "python3"
  },
  "language_info": {
   "codemirror_mode": {
    "name": "ipython",
    "version": 3
   },
   "file_extension": ".py",
   "mimetype": "text/x-python",
   "name": "python",
   "nbconvert_exporter": "python",
   "pygments_lexer": "ipython3",
   "version": "3.8.19"
  }
 },
 "nbformat": 4,
 "nbformat_minor": 5
}
