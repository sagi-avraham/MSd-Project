{
 "cells": [
  {
   "cell_type": "code",
   "execution_count": 3,
   "id": "0d2677ad-6cf2-4140-a6b9-cd5cc4170eac",
   "metadata": {},
   "outputs": [
    {
     "name": "stdout",
     "output_type": "stream",
     "text": [
      "Train Data Shape: (7680, 2)\n",
      "Test Data Shape: (7680, 2)\n",
      "Labels Data Shape: (7680, 2)\n"
     ]
    }
   ],
   "source": [
    "import numpy as np\n",
    "\n",
    "# Specify the paths to your .npy files\n",
    "train_path = 'train.npy'\n",
    "test_path = 'test.npy'\n",
    "labels_path = 'labels.npy'\n",
    "\n",
    "# Load the .npy files\n",
    "train_data = np.load(train_path)\n",
    "test_data = np.load(test_path)\n",
    "labels_data = np.load(labels_path)\n",
    "\n",
    "# Print the shapes of the loaded arrays\n",
    "print(\"Train Data Shape:\", train_data.shape)\n",
    "print(\"Test Data Shape:\", test_data.shape)\n",
    "print(\"Labels Data Shape:\", labels_data.shape)\n"
   ]
  },
  {
   "cell_type": "code",
   "execution_count": 13,
   "id": "7cadad69-017e-4dcb-a736-74826947553c",
   "metadata": {},
   "outputs": [
    {
     "ename": "AttributeError",
     "evalue": "'list' object has no attribute 'size'",
     "output_type": "error",
     "traceback": [
      "\u001b[0;31m---------------------------------------------------------------------------\u001b[0m",
      "\u001b[0;31mAttributeError\u001b[0m                            Traceback (most recent call last)",
      "Cell \u001b[0;32mIn[13], line 6\u001b[0m\n\u001b[1;32m      3\u001b[0m \u001b[38;5;28;01mfor\u001b[39;00m array \u001b[38;5;129;01min\u001b[39;00m labels_data:\n\u001b[1;32m      4\u001b[0m     non_zero_values\u001b[38;5;241m.\u001b[39mextend(array[array \u001b[38;5;241m!=\u001b[39m \u001b[38;5;241m0\u001b[39m])\n\u001b[0;32m----> 6\u001b[0m \u001b[38;5;28mprint\u001b[39m(\u001b[43mnon_zero_values\u001b[49m\u001b[38;5;241;43m.\u001b[39;49m\u001b[43msize\u001b[49m)\n",
      "\u001b[0;31mAttributeError\u001b[0m: 'list' object has no attribute 'size'"
     ]
    }
   ],
   "source": [
    "non_zero_values = []\n",
    "\n",
    "for array in labels_data:\n",
    "    non_zero_values.extend(array[array != 0])\n",
    "\n",
    "print(len(non_zero_values))"
   ]
  },
  {
   "cell_type": "code",
   "execution_count": null,
   "id": "ec9cd6dc-f7ac-45f6-8740-b0ef90bbbed5",
   "metadata": {},
   "outputs": [],
   "source": []
  }
 ],
 "metadata": {
  "kernelspec": {
   "display_name": "Python 3 (ipykernel)",
   "language": "python",
   "name": "python3"
  },
  "language_info": {
   "codemirror_mode": {
    "name": "ipython",
    "version": 3
   },
   "file_extension": ".py",
   "mimetype": "text/x-python",
   "name": "python",
   "nbconvert_exporter": "python",
   "pygments_lexer": "ipython3",
   "version": "3.8.19"
  }
 },
 "nbformat": 4,
 "nbformat_minor": 5
}
