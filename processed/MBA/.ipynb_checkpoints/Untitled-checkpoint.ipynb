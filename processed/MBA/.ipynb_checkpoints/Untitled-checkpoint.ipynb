{
 "cells": [
  {
   "cell_type": "code",
   "execution_count": 1,
   "id": "0d2677ad-6cf2-4140-a6b9-cd5cc4170eac",
   "metadata": {},
   "outputs": [
    {
     "name": "stdout",
     "output_type": "stream",
     "text": [
      "Train Data Shape: (7680, 2)\n",
      "Test Data Shape: (7680, 2)\n",
      "Labels Data Shape: (7680, 2)\n"
     ]
    }
   ],
   "source": [
    "import numpy as np\n",
    "\n",
    "# Specify the paths to your .npy files\n",
    "train_path = 'train.npy'\n",
    "test_path = 'test.npy'\n",
    "labels_path = 'labels.npy'\n",
    "\n",
    "# Load the .npy files\n",
    "train_data = np.load(train_path)\n",
    "test_data = np.load(test_path)\n",
    "labels_data = np.load(labels_path)\n",
    "\n",
    "# Print the shapes of the loaded arrays\n",
    "print(\"Train Data Shape:\", train_data.shape)\n",
    "print(\"Test Data Shape:\", test_data.shape)\n",
    "print(\"Labels Data Shape:\", labels_data.shape)\n"
   ]
  },
  {
   "cell_type": "code",
   "execution_count": 2,
   "id": "7cadad69-017e-4dcb-a736-74826947553c",
   "metadata": {},
   "outputs": [
    {
     "name": "stdout",
     "output_type": "stream",
     "text": [
      "[[-0.02 -0.16]\n",
      " [-0.01 -0.21]\n",
      " [-0.02 -0.16]\n",
      " ...\n",
      " [-0.09 -0.11]\n",
      " [-0.01 -0.15]\n",
      " [-0.07 -0.18]]\n"
     ]
    }
   ],
   "source": [
    "print(train_data)\n",
    "print(test_data)\n",
    "print(labels)"
   ]
  },
  {
   "cell_type": "code",
   "execution_count": null,
   "id": "ec9cd6dc-f7ac-45f6-8740-b0ef90bbbed5",
   "metadata": {},
   "outputs": [],
   "source": []
  }
 ],
 "metadata": {
  "kernelspec": {
   "display_name": "Python 3 (ipykernel)",
   "language": "python",
   "name": "python3"
  },
  "language_info": {
   "codemirror_mode": {
    "name": "ipython",
    "version": 3
   },
   "file_extension": ".py",
   "mimetype": "text/x-python",
   "name": "python",
   "nbconvert_exporter": "python",
   "pygments_lexer": "ipython3",
   "version": "3.8.19"
  }
 },
 "nbformat": 4,
 "nbformat_minor": 5
}
