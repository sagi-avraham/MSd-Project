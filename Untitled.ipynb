{
 "cells": [
  {
   "cell_type": "code",
   "execution_count": 11,
   "id": "11d142a1-121a-4eb2-baa8-9e6ff3e9406c",
   "metadata": {},
   "outputs": [
    {
     "name": "stdout",
     "output_type": "stream",
     "text": [
      "Python (.py) files:\n",
      "/home/sagi/TranAD/main.py\n",
      "/home/sagi/TranAD/.~preprocess.py\n",
      "/home/sagi/TranAD/preprocess.py\n",
      "/home/sagi/TranAD/data/FTSD/deployazure.py\n",
      "/home/sagi/TranAD/data/MSDS/clean.py\n",
      "/home/sagi/TranAD/src/merlin.py\n",
      "/home/sagi/TranAD/src/models.py\n",
      "/home/sagi/TranAD/src/parser.py\n",
      "/home/sagi/TranAD/src/plotting.py\n",
      "/home/sagi/TranAD/src/utils.py\n",
      "/home/sagi/TranAD/src/dlutils.py\n",
      "/home/sagi/TranAD/src/folderconstants.py\n",
      "/home/sagi/TranAD/src/constants.py\n",
      "/home/sagi/TranAD/src/diagnosis.py\n",
      "/home/sagi/TranAD/src/pot.py\n",
      "/home/sagi/TranAD/src/spot.py\n",
      "/home/sagi/TranAD/src/.ipynb_checkpoints/merlin-checkpoint.py\n",
      "/home/sagi/TranAD/src/.ipynb_checkpoints/diagnosis-checkpoint.py\n",
      "/home/sagi/TranAD/src/.ipynb_checkpoints/spot-checkpoint.py\n",
      "/home/sagi/TranAD/src/.ipynb_checkpoints/constants-checkpoint.py\n",
      "/home/sagi/TranAD/src/.ipynb_checkpoints/plotting-checkpoint.py\n",
      "/home/sagi/TranAD/src/.ipynb_checkpoints/models-checkpoint.py\n",
      "/home/sagi/TranAD/src/.ipynb_checkpoints/dlutils-checkpoint.py\n",
      "/home/sagi/TranAD/src/.ipynb_checkpoints/parser-checkpoint.py\n",
      "/home/sagi/TranAD/src/.ipynb_checkpoints/pot-checkpoint.py\n",
      "/home/sagi/TranAD/src/.ipynb_checkpoints/folderconstants-checkpoint.py\n",
      "/home/sagi/TranAD/src/.ipynb_checkpoints/utils-checkpoint.py\n",
      "/home/sagi/TranAD/.ipynb_checkpoints/preprocess-checkpoint.py\n",
      "/home/sagi/TranAD/.ipynb_checkpoints/main-checkpoint.py\n",
      "\n",
      "Jupyter Notebook (.ipynb) files:\n",
      "/home/sagi/TranAD/Untitled.ipynb\n",
      "/home/sagi/TranAD/processed/MBA/Untitled.ipynb\n",
      "/home/sagi/TranAD/processed/MBA/.ipynb_checkpoints/Untitled-checkpoint.ipynb\n",
      "/home/sagi/TranAD/processed/STRAIN/Untitled.ipynb\n",
      "/home/sagi/TranAD/processed/STRAIN/.ipynb_checkpoints/Untitled-checkpoint.ipynb\n",
      "/home/sagi/TranAD/data/MBA/Untitled.ipynb\n",
      "/home/sagi/TranAD/data/MBA/.ipynb_checkpoints/Untitled-checkpoint.ipynb\n",
      "/home/sagi/TranAD/data/STRAIN/Untitled.ipynb\n",
      "/home/sagi/TranAD/data/STRAIN/gw_data_generator_and_model.ipynb\n",
      "/home/sagi/TranAD/data/STRAIN/.ipynb_checkpoints/Untitled-checkpoint.ipynb\n",
      "/home/sagi/TranAD/data/STRAIN/.ipynb_checkpoints/gw_data_generator_and_model-checkpoint.ipynb\n",
      "/home/sagi/TranAD/generate_gw_data/Untitled.ipynb\n",
      "/home/sagi/TranAD/generate_gw_data/gw_data_generator_and_model.ipynb\n",
      "/home/sagi/TranAD/generate_gw_data/.ipynb_checkpoints/Untitled-checkpoint.ipynb\n",
      "/home/sagi/TranAD/generate_gw_data/.ipynb_checkpoints/gw_data_generator_and_model-checkpoint.ipynb\n",
      "/home/sagi/TranAD/.ipynb_checkpoints/Untitled-checkpoint.ipynb\n"
     ]
    }
   ],
   "source": [
    "import os\n",
    "\n",
    "# Function to list .py and .ipynb files\n",
    "def list_files(directory):\n",
    "    py_files = []\n",
    "    ipynb_files = []\n",
    "    \n",
    "    for root, dirs, files in os.walk(directory):\n",
    "        for file in files:\n",
    "            if file.endswith('.py'):\n",
    "                py_files.append(os.path.join(root, file))\n",
    "            elif file.endswith('.ipynb'):\n",
    "                ipynb_files.append(os.path.join(root, file))\n",
    "    \n",
    "    return py_files, ipynb_files\n",
    "\n",
    "# Get current directory\n",
    "current_directory = os.getcwd()\n",
    "\n",
    "# List .py and .ipynb files\n",
    "py_files, ipynb_files = list_files(current_directory)\n",
    "\n",
    "# Print the results\n",
    "print(\"Python (.py) files:\")\n",
    "for file in py_files:\n",
    "    print(file)\n",
    "\n",
    "print(\"\\nJupyter Notebook (.ipynb) files:\")\n",
    "for file in ipynb_files:\n",
    "    print(file)\n"
   ]
  },
  {
   "cell_type": "code",
   "execution_count": null,
   "id": "bdecdd3f-7462-45b6-a54e-d9a96d357e00",
   "metadata": {},
   "outputs": [],
   "source": []
  }
 ],
 "metadata": {
  "kernelspec": {
   "display_name": "Python 3 (ipykernel)",
   "language": "python",
   "name": "python3"
  },
  "language_info": {
   "codemirror_mode": {
    "name": "ipython",
    "version": 3
   },
   "file_extension": ".py",
   "mimetype": "text/x-python",
   "name": "python",
   "nbconvert_exporter": "python",
   "pygments_lexer": "ipython3",
   "version": "3.8.19"
  }
 },
 "nbformat": 4,
 "nbformat_minor": 5
}
