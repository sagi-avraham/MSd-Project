{
 "cells": [
  {
   "cell_type": "code",
   "execution_count": 22,
   "id": "0dc62924-3f1c-4878-8593-57b518281cdf",
   "metadata": {},
   "outputs": [
    {
     "name": "stdout",
     "output_type": "stream",
     "text": [
      "0       0.149690\n",
      "1      -0.263642\n",
      "2       0.159023\n",
      "3       0.106914\n",
      "4       0.085815\n",
      "          ...   \n",
      "4090    0.010197\n",
      "4091    0.154367\n",
      "4092    0.051834\n",
      "4093   -0.245448\n",
      "4094    0.079039\n",
      "Name: 0.2963165245803326, Length: 4095, dtype: float64\n"
     ]
    }
   ],
   "source": [
    "import pandas as pd\n",
    "import numpy as np\n",
    "import matplotlib.pyplot as plt\n",
    "\n",
    "# Parameters for plotting\n",
    "num_samples_to_plot = 10\n",
    "num_points = 4096  # Number of time points in each sample\n",
    "time_indices = np.linspace(0, 1, num_points)  # Time indices corresponding to the data\n",
    "\n",
    "# Load train and test CSV files\n",
    "train_df = pd.read_csv('train.csv')\n",
    "test_df = pd.read_csv('test.csv')\n",
    "\n",
    "print(train_df.iloc[:, 0])"
   ]
  },
  {
   "cell_type": "code",
   "execution_count": null,
   "id": "df9c407b-f48d-4ca7-a9e9-3dc7f4b1f748",
   "metadata": {},
   "outputs": [],
   "source": [
    "\n",
    "# Plotting the first few training samples\n",
    "plt.figure(figsize=(15, 50))\n",
    "for i in range(num_samples_to_plot):\n",
    "    plt.subplot(num_samples_to_plot, 1, i + 1)\n",
    "    sample = X_train[i] * A_base  # Scale back to the original amplitude\n",
    "    plt.plot(time_indices, sample)  # Plot the sampled points\n",
    "    actual_label = \"Signal\" if y_train[i] == 1 else \"No Signal\"\n",
    "    plt.title(f'Training Sample {i+1} - Label: {actual_label}')\n",
    "    plt.xlabel('Time (s)')\n",
    "    plt.ylabel('Amplitude')\n",
    "\n",
    "plt.tight_layout()\n",
    "plt.show()"
   ]
  }
 ],
 "metadata": {
  "kernelspec": {
   "display_name": "Python 3 (ipykernel)",
   "language": "python",
   "name": "python3"
  },
  "language_info": {
   "codemirror_mode": {
    "name": "ipython",
    "version": 3
   },
   "file_extension": ".py",
   "mimetype": "text/x-python",
   "name": "python",
   "nbconvert_exporter": "python",
   "pygments_lexer": "ipython3",
   "version": "3.8.19"
  }
 },
 "nbformat": 4,
 "nbformat_minor": 5
}
